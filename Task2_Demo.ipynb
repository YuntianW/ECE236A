{
 "cells": [
  {
   "cell_type": "code",
   "execution_count": 1,
   "id": "2c5ab0dc-c74f-42d6-a17e-0ec615f70250",
   "metadata": {},
   "outputs": [],
   "source": [
    "from utils import *\n",
    "%load_ext autoreload\n",
    "%autoreload 2"
   ]
  },
  {
   "cell_type": "code",
   "execution_count": 2,
   "id": "9bc249ae-f0ed-4061-a469-7c92bb3fd4d0",
   "metadata": {},
   "outputs": [
    {
     "data": {
      "text/plain": [
       "dict_keys(['trainX', 'trainY', 'testX', 'testY'])"
      ]
     },
     "execution_count": 2,
     "metadata": {},
     "output_type": "execute_result"
    }
   ],
   "source": [
    "data = prepare_mnist_data()\n",
    "data.keys()"
   ]
  },
  {
   "cell_type": "code",
   "execution_count": 3,
   "id": "b3a527ce-2bad-4f02-8d20-f7e824b554b2",
   "metadata": {},
   "outputs": [
    {
     "data": {
      "text/plain": [
       "(10, 10)"
      ]
     },
     "execution_count": 3,
     "metadata": {},
     "output_type": "execute_result"
    }
   ],
   "source": [
    "import numpy as np\n",
    "\n",
    "X = np.random.rand(10, 10)\n",
    "X.shape"
   ]
  },
  {
   "cell_type": "code",
   "execution_count": 4,
   "id": "214c267f-4647-4097-95b1-5867e82dd164",
   "metadata": {},
   "outputs": [],
   "source": [
    "from scipy.optimize import linprog, milp, LinearConstraint\n",
    "\n",
    "def solve_l1_Ax_b(A, b, constrained=True):\n",
    "    # Solve min ||Ax-b||_1\n",
    "    # s.t. x>=0, 1^Tx=1, x integer\n",
    "    m, n = A.shape\n",
    "    c = np.concatenate((np.zeros(n), np.ones(m)))\n",
    "    A_ub = np.block([\n",
    "        [-np.identity(n), np.zeros((n, m))], \n",
    "        [A, -np.identity(m)],\n",
    "        [-A, -np.identity(m)]\n",
    "    ])\n",
    "    A_eq = np.block(\n",
    "        [np.ones((1, n)), np.zeros((1, m))]\n",
    "    )\n",
    "    b_ub = np.concatenate((np.zeros(n), b, -b))\n",
    "    b_eq = 1\n",
    "    constraints = [\n",
    "        LinearConstraint(A_ub, ub=b_ub),\n",
    "    ]\n",
    "    if constrained:\n",
    "        constraints.append(LinearConstraint(A_eq, 1, 1))\n",
    "        integrality = np.concatenate((np.ones(n), np.zeros(m)))\n",
    "        sol = milp(c=c, integrality=integrality, constraints=constraints)\n",
    "    else:\n",
    "        sol = milp(c=c, constraints=constraints)\n",
    "    return sol[\"x\"][: n]"
   ]
  },
  {
   "cell_type": "code",
   "execution_count": 5,
   "id": "bcfdde03-6804-4bcb-86a3-38a6eb0a16f0",
   "metadata": {},
   "outputs": [],
   "source": [
    "A = prepare_mnist_data()[\"trainX\"].T"
   ]
  },
  {
   "cell_type": "code",
   "execution_count": 6,
   "id": "86c2c458-0826-40e9-92e9-ff15d10f3359",
   "metadata": {},
   "outputs": [
    {
     "data": {
      "text/plain": [
       "1"
      ]
     },
     "execution_count": 6,
     "metadata": {},
     "output_type": "execute_result"
    }
   ],
   "source": [
    "sol = solve_l1_Ax_b(A[:, :4], A[:, 5])\n",
    "np.argmax(sol)"
   ]
  },
  {
   "cell_type": "code",
   "execution_count": 7,
   "id": "c1381069-e6b9-4d56-afb9-ca597303479e",
   "metadata": {},
   "outputs": [],
   "source": [
    "# A - WH\n",
    "W = A[:, np.random.randint(0, 100, 3)]\n",
    "H = np.zeros((3, A.shape[1]))\n",
    "for i in range(A.shape[1]):\n",
    "    H[:, i] = solve_l1_Ax_b(W, A[:, i])"
   ]
  },
  {
   "cell_type": "code",
   "execution_count": 73,
   "id": "4bbcf0ef-518b-45da-9afc-e76cd4432fdb",
   "metadata": {},
   "outputs": [],
   "source": [
    "for i in range(A.shape[0]):\n",
    "    W[i, :] = solve_l1_Ax_b(H.T, A[i, :], constrained=False)"
   ]
  },
  {
   "cell_type": "code",
   "execution_count": 92,
   "id": "2188a32c-0006-4758-91de-36c56424bd69",
   "metadata": {},
   "outputs": [
    {
     "ename": "IndexError",
     "evalue": "index 1423 is out of bounds for axis 0 with size 1000",
     "output_type": "error",
     "traceback": [
      "\u001b[0;31m---------------------------------------------------------------------------\u001b[0m",
      "\u001b[0;31mIndexError\u001b[0m                                Traceback (most recent call last)",
      "Cell \u001b[0;32mIn [92], line 3\u001b[0m\n\u001b[1;32m      1\u001b[0m \u001b[38;5;28;01mfrom\u001b[39;00m \u001b[38;5;21;01mMySolution\u001b[39;00m \u001b[38;5;28;01mimport\u001b[39;00m MyClustering\n\u001b[1;32m      2\u001b[0m c \u001b[38;5;241m=\u001b[39m MyClustering(K\u001b[38;5;241m=\u001b[39m\u001b[38;5;241m3\u001b[39m)\n\u001b[0;32m----> 3\u001b[0m c\u001b[38;5;241m.\u001b[39mtrain(data[\u001b[38;5;124m\"\u001b[39m\u001b[38;5;124mtrainX\u001b[39m\u001b[38;5;124m\"\u001b[39m])\n",
      "File \u001b[0;32m~/Documents/ucla/ece236a/ECE236A/MySolution.py:197\u001b[0m, in \u001b[0;36mMyClustering.train\u001b[0;34m(self, trainX, verbose, beta, gamma)\u001b[0m\n\u001b[1;32m    195\u001b[0m \u001b[38;5;66;03m# intialize W and H\u001b[39;00m\n\u001b[1;32m    196\u001b[0m A \u001b[38;5;241m=\u001b[39m trainX\u001b[38;5;241m.\u001b[39mT\n\u001b[0;32m--> 197\u001b[0m W \u001b[38;5;241m=\u001b[39m \u001b[43mFarthestFirstTraversal\u001b[49m\u001b[43m(\u001b[49m\u001b[43mA\u001b[49m\u001b[43m,\u001b[49m\u001b[43m \u001b[49m\u001b[38;5;28;43mself\u001b[39;49m\u001b[38;5;241;43m.\u001b[39;49m\u001b[43mK\u001b[49m\u001b[43m)\u001b[49m\n\u001b[1;32m    198\u001b[0m H \u001b[38;5;241m=\u001b[39m np\u001b[38;5;241m.\u001b[39mzeros((\u001b[38;5;28mself\u001b[39m\u001b[38;5;241m.\u001b[39mK, A\u001b[38;5;241m.\u001b[39mshape[\u001b[38;5;241m1\u001b[39m]))\n\u001b[1;32m    200\u001b[0m \u001b[38;5;66;03m# update W and H iteratively\u001b[39;00m\n",
      "File \u001b[0;32m~/Documents/ucla/ece236a/ECE236A/MySolution.py:171\u001b[0m, in \u001b[0;36mFarthestFirstTraversal\u001b[0;34m(Data, k)\u001b[0m\n\u001b[1;32m    169\u001b[0m \u001b[38;5;28;01mfor\u001b[39;00m i \u001b[38;5;129;01min\u001b[39;00m \u001b[38;5;28mrange\u001b[39m(\u001b[38;5;241m1\u001b[39m, k):\n\u001b[1;32m    170\u001b[0m     d_mat \u001b[38;5;241m=\u001b[39m distance(centers[:i], Data)\n\u001b[0;32m--> 171\u001b[0m     centers[i] \u001b[38;5;241m=\u001b[39m \u001b[43mData\u001b[49m\u001b[43m[\u001b[49m\u001b[43mnp\u001b[49m\u001b[38;5;241;43m.\u001b[39;49m\u001b[43margmax\u001b[49m\u001b[43m(\u001b[49m\u001b[43md_mat\u001b[49m\u001b[43m)\u001b[49m\u001b[43m]\u001b[49m \n\u001b[1;32m    173\u001b[0m \u001b[38;5;28;01mreturn\u001b[39;00m centers\n",
      "\u001b[0;31mIndexError\u001b[0m: index 1423 is out of bounds for axis 0 with size 1000"
     ]
    }
   ],
   "source": [
    "from MySolution import MyClustering\n",
    "from sklearn.preprocessing import StandardScaler\n",
    "from sklearn.decomposition import PCA\n",
    "\n",
    "x = StandardScaler(data[\"trainX\"])\n",
    "\n",
    "c = MyClustering(K=3)\n",
    "c.train(data[\"trainX\"])"
   ]
  },
  {
   "cell_type": "code",
   "execution_count": 78,
   "id": "e819cdcd-ce1d-4791-b886-28791d9c637f",
   "metadata": {},
   "outputs": [],
   "source": [
    "def solve_l1_l1_Ax_b(A, b, beta):\n",
    "    # min ||Ax - b||_1 + beta * ||x||_1\n",
    "    m, n = A.shape\n",
    "    c = np.concatenate((np.zeros(n), np.ones(m), beta*np.ones(n)))\n",
    "    A_ub = np.block([\n",
    "        [A, -np.identity(m), np.zeros((m, n))],\n",
    "        [-A, -np.identity(m), np.zeros((m, n))],\n",
    "        [-np.identity(n), np.zeros((n, m)), np.zeros((n, n))],\n",
    "        [np.identity(n), np.zeros((n, m)), -np.identity(n)]\n",
    "    ])\n",
    "    b_ub = np.concatenate((b, -b, np.zeros(n), np.zeros(n)))\n",
    "    sol = linprog(c=c, A_ub=A_ub, b_ub=b_ub)\n",
    "    return sol['x'][: n]\n",
    "\n",
    "def solve_l1_linf_Ax_b(A, b, beta):\n",
    "    m, n = A.shape\n",
    "    c = np.concatenate((np.zeros(n), np.ones(m), beta*np.ones(1)))\n",
    "    A_ub = np.block([\n",
    "        [A, -np.identity(m), np.zeros((m, 1))],\n",
    "        [-A, -np.identity(m), np.zeros((m, 1))],\n",
    "        [-np.identity(n), np.zeros((n, m)), np.zeros((n, 1))],\n",
    "        [np.identity(n), np.zeros((n, m)), -np.ones((n, 1))]\n",
    "    ])\n",
    "    b_ub = np.concatenate((b, -b, np.zeros(n), np.zeros(n)))\n",
    "    sol = linprog(c=c, A_ub=A_ub, b_ub=b_ub)\n",
    "    return sol['x'][: n]"
   ]
  },
  {
   "cell_type": "code",
   "execution_count": 81,
   "id": "258f58b7-b8b9-4db5-97b8-2f3a0ce4cecb",
   "metadata": {},
   "outputs": [
    {
     "name": "stderr",
     "output_type": "stream",
     "text": [
      "100%|██████████████████████████████████████████████████████████████████████████████████████████████████████████████████████████████████████████████████████████████████████████████| 5/5 [02:06<00:00, 25.33s/it]\n"
     ]
    }
   ],
   "source": [
    "# A - WH\n",
    "from tqdm import tqdm\n",
    "W = A[:, np.random.randint(0, 100, 3)]\n",
    "H = np.zeros((3, A.shape[1]))\n",
    "for _ in tqdm(range(5)):\n",
    "    for i in range(A.shape[1]):\n",
    "        H[:, i] = solve_l1_l1_Ax_b(W, A[:, i], 0.5)\n",
    "    for i in range(A.shape[0]):\n",
    "        W[i, :] = solve_l1_linf_Ax_b(H.T, A[i, :], 0.1)"
   ]
  },
  {
   "cell_type": "code",
   "execution_count": 83,
   "id": "753b0042-b6b7-4e35-aab9-531f8890ba48",
   "metadata": {},
   "outputs": [
    {
     "data": {
      "image/png": "[encoded data removed]",
      "text/plain": [
       "<Figure size 1500x500 with 3 Axes>"
      ]
     },
     "metadata": {},
     "output_type": "display_data"
    }
   ],
   "source": [
    "fig, axes = plt.subplots(1, 3, figsize=(15, 5))\n",
    "for i in range(3):\n",
    "    axes[i].imshow(W[:, i].reshape(28, 28))\n",
    "\n",
    "# Adjust layout to prevent overlap\n",
    "plt.tight_layout()\n",
    "\n",
    "# Show the plot\n",
    "plt.show()"
   ]
  },
  {
   "cell_type": "code",
   "execution_count": 1,
   "id": "814fb6c9-1b51-4bbe-ae41-f3755b06f89c",
   "metadata": {},
   "outputs": [
    {
     "ename": "NameError",
     "evalue": "name 'LabelSelection' is not defined",
     "output_type": "error",
     "traceback": [
      "\u001b[0;31m---------------------------------------------------------------------------\u001b[0m",
      "\u001b[0;31mNameError\u001b[0m                                 Traceback (most recent call last)",
      "Cell \u001b[0;32mIn [1], line 1\u001b[0m\n\u001b[0;32m----> 1\u001b[0m l \u001b[38;5;241m=\u001b[39m LabelSelection(\u001b[38;5;241m0.25\u001b[39m)\n",
      "\u001b[0;31mNameError\u001b[0m: name 'LabelSelection' is not defined"
     ]
    }
   ],
   "source": [
    "l = LabelSelection(0.25)"
   ]
  },
  {
   "cell_type": "code",
   "execution_count": null,
   "id": "bd07db7b-b91b-4dac-b659-e18d5f178ea3",
   "metadata": {},
   "outputs": [],
   "source": [
    "def evaluate_clustering(trainY):\n",
    "    label_reference = align_cluster_labels(self.labels, trainY)\n",
    "    aligned_labels = align_cluster_labels(self.labels, label_reference)\n",
    "    nmi = normalized_mutual_info_score(trainY, aligned_labels)\n",
    "\n",
    "    return nmi\n",
    "\n",
    "\n",
    "def evaluate_classification(self, trainY, testX, testY):\n",
    "    pred_labels = self.infer_cluster(testX)\n",
    "    label_reference = self.align_cluster_labels(self.labels, trainY)\n",
    "    aligned_labels = self.align_cluster_labels(pred_labels, label_reference)\n",
    "    accuracy = accuracy_score(testY, aligned_labels)\n",
    "\n",
    "    return accuracy\n",
    "\n",
    "\n",
    "def get_class_cluster_reference(cluster_labels, true_labels):\n",
    "    ''' assign a class label to each cluster using majority vote '''\n",
    "    label_reference = {}\n",
    "    for i in range(len(np.unique(cluster_labels))):\n",
    "        index = np.where(cluster_labels == i,1,0)\n",
    "        num = np.bincount(true_labels[index==1]).argmax()\n",
    "        label_reference[i] = num\n",
    "\n",
    "    return label_reference\n",
    "\n",
    "\n",
    "def align_cluster_labels(cluster_labels, reference):\n",
    "    ''' update the cluster labels to match the class labels'''\n",
    "    aligned_lables = np.zeros_like(cluster_labels)\n",
    "    for i in range(len(cluster_labels)):\n",
    "        aligned_lables[i] = reference[cluster_labels[i]]\n",
    "\n",
    "    return aligned_lables"
   ]
  }
 ],
 "metadata": {
  "kernelspec": {
   "display_name": "Python 3 (ipykernel)",
   "language": "python",
   "name": "python3"
  },
  "language_info": {
   "codemirror_mode": {
    "name": "ipython",
    "version": 3
   },
   "file_extension": ".py",
   "mimetype": "text/x-python",
   "name": "python",
   "nbconvert_exporter": "python",
   "pygments_lexer": "ipython3",
   "version": "3.10.4"
  }
 },
 "nbformat": 4,
 "nbformat_minor": 5
}
